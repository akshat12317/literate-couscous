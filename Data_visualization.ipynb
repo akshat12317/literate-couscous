{
 "cells": [
  {
   "cell_type": "code",
   "execution_count": 1,
   "metadata": {},
   "outputs": [],
   "source": [
    "import pandas as pd\n",
    "import matplotlib.pyplot as plt\n",
    "import numpy as np\n",
    "import seaborn as sns"
   ]
  },
  {
   "cell_type": "code",
   "execution_count": 2,
   "metadata": {},
   "outputs": [],
   "source": [
    "FullData=pd.read_excel(\"FullData.xlsx\",index_col='Name')"
   ]
  },
  {
   "cell_type": "code",
   "execution_count": 3,
   "metadata": {},
   "outputs": [
    {
     "data": {
      "text/html": [
       "<div>\n",
       "<style scoped>\n",
       "    .dataframe tbody tr th:only-of-type {\n",
       "        vertical-align: middle;\n",
       "    }\n",
       "\n",
       "    .dataframe tbody tr th {\n",
       "        vertical-align: top;\n",
       "    }\n",
       "\n",
       "    .dataframe thead th {\n",
       "        text-align: right;\n",
       "    }\n",
       "</style>\n",
       "<table border=\"1\" class=\"dataframe\">\n",
       "  <thead>\n",
       "    <tr style=\"text-align: right;\">\n",
       "      <th></th>\n",
       "      <th>Nationality</th>\n",
       "      <th>National_Position</th>\n",
       "      <th>National_Kit</th>\n",
       "      <th>Club</th>\n",
       "      <th>Club_Position</th>\n",
       "      <th>Club_Kit</th>\n",
       "      <th>Club_Joining</th>\n",
       "      <th>Contract_Expiry</th>\n",
       "      <th>Rating</th>\n",
       "      <th>Height</th>\n",
       "      <th>...</th>\n",
       "      <th>Long_Shots</th>\n",
       "      <th>Curve</th>\n",
       "      <th>Freekick_Accuracy</th>\n",
       "      <th>Penalties</th>\n",
       "      <th>Volleys</th>\n",
       "      <th>GK_Positioning</th>\n",
       "      <th>GK_Diving</th>\n",
       "      <th>GK_Kicking</th>\n",
       "      <th>GK_Handling</th>\n",
       "      <th>GK_Reflexes</th>\n",
       "    </tr>\n",
       "    <tr>\n",
       "      <th>Name</th>\n",
       "      <th></th>\n",
       "      <th></th>\n",
       "      <th></th>\n",
       "      <th></th>\n",
       "      <th></th>\n",
       "      <th></th>\n",
       "      <th></th>\n",
       "      <th></th>\n",
       "      <th></th>\n",
       "      <th></th>\n",
       "      <th></th>\n",
       "      <th></th>\n",
       "      <th></th>\n",
       "      <th></th>\n",
       "      <th></th>\n",
       "      <th></th>\n",
       "      <th></th>\n",
       "      <th></th>\n",
       "      <th></th>\n",
       "      <th></th>\n",
       "      <th></th>\n",
       "    </tr>\n",
       "  </thead>\n",
       "  <tbody>\n",
       "    <tr>\n",
       "      <th>Cristiano Ronaldo</th>\n",
       "      <td>Portugal</td>\n",
       "      <td>LS</td>\n",
       "      <td>7.0</td>\n",
       "      <td>Real Madrid</td>\n",
       "      <td>LW</td>\n",
       "      <td>7.0</td>\n",
       "      <td>07/01/2009</td>\n",
       "      <td>2021.0</td>\n",
       "      <td>94</td>\n",
       "      <td>185 cm</td>\n",
       "      <td>...</td>\n",
       "      <td>90</td>\n",
       "      <td>81</td>\n",
       "      <td>76</td>\n",
       "      <td>85</td>\n",
       "      <td>88</td>\n",
       "      <td>14</td>\n",
       "      <td>7</td>\n",
       "      <td>15</td>\n",
       "      <td>11</td>\n",
       "      <td>11</td>\n",
       "    </tr>\n",
       "    <tr>\n",
       "      <th>Lionel Messi</th>\n",
       "      <td>Argentina</td>\n",
       "      <td>RW</td>\n",
       "      <td>10.0</td>\n",
       "      <td>FC Barcelona</td>\n",
       "      <td>RW</td>\n",
       "      <td>10.0</td>\n",
       "      <td>07/01/2004</td>\n",
       "      <td>2018.0</td>\n",
       "      <td>93</td>\n",
       "      <td>170 cm</td>\n",
       "      <td>...</td>\n",
       "      <td>88</td>\n",
       "      <td>89</td>\n",
       "      <td>90</td>\n",
       "      <td>74</td>\n",
       "      <td>85</td>\n",
       "      <td>14</td>\n",
       "      <td>6</td>\n",
       "      <td>15</td>\n",
       "      <td>11</td>\n",
       "      <td>8</td>\n",
       "    </tr>\n",
       "    <tr>\n",
       "      <th>Neymar</th>\n",
       "      <td>Brazil</td>\n",
       "      <td>LW</td>\n",
       "      <td>10.0</td>\n",
       "      <td>FC Barcelona</td>\n",
       "      <td>LW</td>\n",
       "      <td>11.0</td>\n",
       "      <td>07/01/2013</td>\n",
       "      <td>2021.0</td>\n",
       "      <td>92</td>\n",
       "      <td>174 cm</td>\n",
       "      <td>...</td>\n",
       "      <td>77</td>\n",
       "      <td>79</td>\n",
       "      <td>84</td>\n",
       "      <td>81</td>\n",
       "      <td>83</td>\n",
       "      <td>15</td>\n",
       "      <td>9</td>\n",
       "      <td>15</td>\n",
       "      <td>9</td>\n",
       "      <td>11</td>\n",
       "    </tr>\n",
       "    <tr>\n",
       "      <th>Luis Suárez</th>\n",
       "      <td>Uruguay</td>\n",
       "      <td>LS</td>\n",
       "      <td>9.0</td>\n",
       "      <td>FC Barcelona</td>\n",
       "      <td>ST</td>\n",
       "      <td>9.0</td>\n",
       "      <td>07/11/2014</td>\n",
       "      <td>2021.0</td>\n",
       "      <td>92</td>\n",
       "      <td>182 cm</td>\n",
       "      <td>...</td>\n",
       "      <td>86</td>\n",
       "      <td>86</td>\n",
       "      <td>84</td>\n",
       "      <td>85</td>\n",
       "      <td>88</td>\n",
       "      <td>33</td>\n",
       "      <td>27</td>\n",
       "      <td>31</td>\n",
       "      <td>25</td>\n",
       "      <td>37</td>\n",
       "    </tr>\n",
       "    <tr>\n",
       "      <th>Manuel Neuer</th>\n",
       "      <td>Germany</td>\n",
       "      <td>GK</td>\n",
       "      <td>1.0</td>\n",
       "      <td>FC Bayern</td>\n",
       "      <td>GK</td>\n",
       "      <td>1.0</td>\n",
       "      <td>07/01/2011</td>\n",
       "      <td>2021.0</td>\n",
       "      <td>92</td>\n",
       "      <td>193 cm</td>\n",
       "      <td>...</td>\n",
       "      <td>16</td>\n",
       "      <td>14</td>\n",
       "      <td>11</td>\n",
       "      <td>47</td>\n",
       "      <td>11</td>\n",
       "      <td>91</td>\n",
       "      <td>89</td>\n",
       "      <td>95</td>\n",
       "      <td>90</td>\n",
       "      <td>89</td>\n",
       "    </tr>\n",
       "  </tbody>\n",
       "</table>\n",
       "<p>5 rows × 52 columns</p>\n",
       "</div>"
      ],
      "text/plain": [
       "                  Nationality National_Position  National_Kit          Club  \\\n",
       "Name                                                                          \n",
       "Cristiano Ronaldo    Portugal                LS           7.0   Real Madrid   \n",
       "Lionel Messi        Argentina                RW          10.0  FC Barcelona   \n",
       "Neymar                 Brazil                LW          10.0  FC Barcelona   \n",
       "Luis Suárez           Uruguay                LS           9.0  FC Barcelona   \n",
       "Manuel Neuer          Germany                GK           1.0     FC Bayern   \n",
       "\n",
       "                  Club_Position  Club_Kit Club_Joining  Contract_Expiry  \\\n",
       "Name                                                                      \n",
       "Cristiano Ronaldo            LW       7.0   07/01/2009           2021.0   \n",
       "Lionel Messi                 RW      10.0   07/01/2004           2018.0   \n",
       "Neymar                       LW      11.0   07/01/2013           2021.0   \n",
       "Luis Suárez                  ST       9.0   07/11/2014           2021.0   \n",
       "Manuel Neuer                 GK       1.0   07/01/2011           2021.0   \n",
       "\n",
       "                   Rating  Height     ...      Long_Shots Curve  \\\n",
       "Name                                  ...                         \n",
       "Cristiano Ronaldo      94  185 cm     ...              90    81   \n",
       "Lionel Messi           93  170 cm     ...              88    89   \n",
       "Neymar                 92  174 cm     ...              77    79   \n",
       "Luis Suárez            92  182 cm     ...              86    86   \n",
       "Manuel Neuer           92  193 cm     ...              16    14   \n",
       "\n",
       "                  Freekick_Accuracy  Penalties Volleys GK_Positioning  \\\n",
       "Name                                                                    \n",
       "Cristiano Ronaldo                76         85      88             14   \n",
       "Lionel Messi                     90         74      85             14   \n",
       "Neymar                           84         81      83             15   \n",
       "Luis Suárez                      84         85      88             33   \n",
       "Manuel Neuer                     11         47      11             91   \n",
       "\n",
       "                   GK_Diving  GK_Kicking  GK_Handling  GK_Reflexes  \n",
       "Name                                                                \n",
       "Cristiano Ronaldo          7          15           11           11  \n",
       "Lionel Messi               6          15           11            8  \n",
       "Neymar                     9          15            9           11  \n",
       "Luis Suárez               27          31           25           37  \n",
       "Manuel Neuer              89          95           90           89  \n",
       "\n",
       "[5 rows x 52 columns]"
      ]
     },
     "execution_count": 3,
     "metadata": {},
     "output_type": "execute_result"
    }
   ],
   "source": [
    "FullData.head()"
   ]
  },
  {
   "cell_type": "code",
   "execution_count": 4,
   "metadata": {},
   "outputs": [
    {
     "data": {
      "text/plain": [
       "Nationality           False\n",
       "National_Position      True\n",
       "National_Kit           True\n",
       "Club                  False\n",
       "Club_Position          True\n",
       "Club_Kit               True\n",
       "Club_Joining           True\n",
       "Contract_Expiry        True\n",
       "Rating                False\n",
       "Height                False\n",
       "Weight                False\n",
       "Preffered_Foot        False\n",
       "Birth_Date            False\n",
       "Age                   False\n",
       "Preffered_Position    False\n",
       "Work_Rate             False\n",
       "Weak_foot             False\n",
       "Skill_Moves           False\n",
       "Ball_Control          False\n",
       "Dribbling             False\n",
       "Marking               False\n",
       "Sliding_Tackle        False\n",
       "Standing_Tackle       False\n",
       "Aggression            False\n",
       "Reactions             False\n",
       "Attacking_Position    False\n",
       "Interceptions         False\n",
       "Vision                False\n",
       "Composure             False\n",
       "Crossing              False\n",
       "Short_Pass            False\n",
       "Long_Pass             False\n",
       "Acceleration          False\n",
       "Speed                 False\n",
       "Stamina               False\n",
       "Strength              False\n",
       "Balance               False\n",
       "Agility               False\n",
       "Jumping               False\n",
       "Heading               False\n",
       "Shot_Power            False\n",
       "Finishing             False\n",
       "Long_Shots            False\n",
       "Curve                 False\n",
       "Freekick_Accuracy     False\n",
       "Penalties             False\n",
       "Volleys               False\n",
       "GK_Positioning        False\n",
       "GK_Diving             False\n",
       "GK_Kicking            False\n",
       "GK_Handling           False\n",
       "GK_Reflexes           False\n",
       "dtype: bool"
      ]
     },
     "execution_count": 4,
     "metadata": {},
     "output_type": "execute_result"
    }
   ],
   "source": [
    "FullData.isnull().any()"
   ]
  },
  {
   "cell_type": "code",
   "execution_count": 5,
   "metadata": {},
   "outputs": [],
   "source": [
    "fulldata=FullData.dropna()"
   ]
  },
  {
   "cell_type": "code",
   "execution_count": 6,
   "metadata": {},
   "outputs": [
    {
     "data": {
      "text/html": [
       "<div>\n",
       "<style scoped>\n",
       "    .dataframe tbody tr th:only-of-type {\n",
       "        vertical-align: middle;\n",
       "    }\n",
       "\n",
       "    .dataframe tbody tr th {\n",
       "        vertical-align: top;\n",
       "    }\n",
       "\n",
       "    .dataframe thead th {\n",
       "        text-align: right;\n",
       "    }\n",
       "</style>\n",
       "<table border=\"1\" class=\"dataframe\">\n",
       "  <thead>\n",
       "    <tr style=\"text-align: right;\">\n",
       "      <th></th>\n",
       "      <th>Nationality</th>\n",
       "      <th>National_Position</th>\n",
       "      <th>National_Kit</th>\n",
       "      <th>Club</th>\n",
       "      <th>Club_Position</th>\n",
       "      <th>Club_Kit</th>\n",
       "      <th>Club_Joining</th>\n",
       "      <th>Contract_Expiry</th>\n",
       "      <th>Rating</th>\n",
       "      <th>Height</th>\n",
       "      <th>...</th>\n",
       "      <th>Long_Shots</th>\n",
       "      <th>Curve</th>\n",
       "      <th>Freekick_Accuracy</th>\n",
       "      <th>Penalties</th>\n",
       "      <th>Volleys</th>\n",
       "      <th>GK_Positioning</th>\n",
       "      <th>GK_Diving</th>\n",
       "      <th>GK_Kicking</th>\n",
       "      <th>GK_Handling</th>\n",
       "      <th>GK_Reflexes</th>\n",
       "    </tr>\n",
       "    <tr>\n",
       "      <th>Name</th>\n",
       "      <th></th>\n",
       "      <th></th>\n",
       "      <th></th>\n",
       "      <th></th>\n",
       "      <th></th>\n",
       "      <th></th>\n",
       "      <th></th>\n",
       "      <th></th>\n",
       "      <th></th>\n",
       "      <th></th>\n",
       "      <th></th>\n",
       "      <th></th>\n",
       "      <th></th>\n",
       "      <th></th>\n",
       "      <th></th>\n",
       "      <th></th>\n",
       "      <th></th>\n",
       "      <th></th>\n",
       "      <th></th>\n",
       "      <th></th>\n",
       "      <th></th>\n",
       "    </tr>\n",
       "  </thead>\n",
       "  <tbody>\n",
       "    <tr>\n",
       "      <th>Cristiano Ronaldo</th>\n",
       "      <td>Portugal</td>\n",
       "      <td>LS</td>\n",
       "      <td>7.0</td>\n",
       "      <td>Real Madrid</td>\n",
       "      <td>LW</td>\n",
       "      <td>7.0</td>\n",
       "      <td>07/01/2009</td>\n",
       "      <td>2021.0</td>\n",
       "      <td>94</td>\n",
       "      <td>185 cm</td>\n",
       "      <td>...</td>\n",
       "      <td>90</td>\n",
       "      <td>81</td>\n",
       "      <td>76</td>\n",
       "      <td>85</td>\n",
       "      <td>88</td>\n",
       "      <td>14</td>\n",
       "      <td>7</td>\n",
       "      <td>15</td>\n",
       "      <td>11</td>\n",
       "      <td>11</td>\n",
       "    </tr>\n",
       "    <tr>\n",
       "      <th>Lionel Messi</th>\n",
       "      <td>Argentina</td>\n",
       "      <td>RW</td>\n",
       "      <td>10.0</td>\n",
       "      <td>FC Barcelona</td>\n",
       "      <td>RW</td>\n",
       "      <td>10.0</td>\n",
       "      <td>07/01/2004</td>\n",
       "      <td>2018.0</td>\n",
       "      <td>93</td>\n",
       "      <td>170 cm</td>\n",
       "      <td>...</td>\n",
       "      <td>88</td>\n",
       "      <td>89</td>\n",
       "      <td>90</td>\n",
       "      <td>74</td>\n",
       "      <td>85</td>\n",
       "      <td>14</td>\n",
       "      <td>6</td>\n",
       "      <td>15</td>\n",
       "      <td>11</td>\n",
       "      <td>8</td>\n",
       "    </tr>\n",
       "    <tr>\n",
       "      <th>Neymar</th>\n",
       "      <td>Brazil</td>\n",
       "      <td>LW</td>\n",
       "      <td>10.0</td>\n",
       "      <td>FC Barcelona</td>\n",
       "      <td>LW</td>\n",
       "      <td>11.0</td>\n",
       "      <td>07/01/2013</td>\n",
       "      <td>2021.0</td>\n",
       "      <td>92</td>\n",
       "      <td>174 cm</td>\n",
       "      <td>...</td>\n",
       "      <td>77</td>\n",
       "      <td>79</td>\n",
       "      <td>84</td>\n",
       "      <td>81</td>\n",
       "      <td>83</td>\n",
       "      <td>15</td>\n",
       "      <td>9</td>\n",
       "      <td>15</td>\n",
       "      <td>9</td>\n",
       "      <td>11</td>\n",
       "    </tr>\n",
       "    <tr>\n",
       "      <th>Luis Suárez</th>\n",
       "      <td>Uruguay</td>\n",
       "      <td>LS</td>\n",
       "      <td>9.0</td>\n",
       "      <td>FC Barcelona</td>\n",
       "      <td>ST</td>\n",
       "      <td>9.0</td>\n",
       "      <td>07/11/2014</td>\n",
       "      <td>2021.0</td>\n",
       "      <td>92</td>\n",
       "      <td>182 cm</td>\n",
       "      <td>...</td>\n",
       "      <td>86</td>\n",
       "      <td>86</td>\n",
       "      <td>84</td>\n",
       "      <td>85</td>\n",
       "      <td>88</td>\n",
       "      <td>33</td>\n",
       "      <td>27</td>\n",
       "      <td>31</td>\n",
       "      <td>25</td>\n",
       "      <td>37</td>\n",
       "    </tr>\n",
       "    <tr>\n",
       "      <th>Manuel Neuer</th>\n",
       "      <td>Germany</td>\n",
       "      <td>GK</td>\n",
       "      <td>1.0</td>\n",
       "      <td>FC Bayern</td>\n",
       "      <td>GK</td>\n",
       "      <td>1.0</td>\n",
       "      <td>07/01/2011</td>\n",
       "      <td>2021.0</td>\n",
       "      <td>92</td>\n",
       "      <td>193 cm</td>\n",
       "      <td>...</td>\n",
       "      <td>16</td>\n",
       "      <td>14</td>\n",
       "      <td>11</td>\n",
       "      <td>47</td>\n",
       "      <td>11</td>\n",
       "      <td>91</td>\n",
       "      <td>89</td>\n",
       "      <td>95</td>\n",
       "      <td>90</td>\n",
       "      <td>89</td>\n",
       "    </tr>\n",
       "  </tbody>\n",
       "</table>\n",
       "<p>5 rows × 52 columns</p>\n",
       "</div>"
      ],
      "text/plain": [
       "                  Nationality National_Position  National_Kit          Club  \\\n",
       "Name                                                                          \n",
       "Cristiano Ronaldo    Portugal                LS           7.0   Real Madrid   \n",
       "Lionel Messi        Argentina                RW          10.0  FC Barcelona   \n",
       "Neymar                 Brazil                LW          10.0  FC Barcelona   \n",
       "Luis Suárez           Uruguay                LS           9.0  FC Barcelona   \n",
       "Manuel Neuer          Germany                GK           1.0     FC Bayern   \n",
       "\n",
       "                  Club_Position  Club_Kit Club_Joining  Contract_Expiry  \\\n",
       "Name                                                                      \n",
       "Cristiano Ronaldo            LW       7.0   07/01/2009           2021.0   \n",
       "Lionel Messi                 RW      10.0   07/01/2004           2018.0   \n",
       "Neymar                       LW      11.0   07/01/2013           2021.0   \n",
       "Luis Suárez                  ST       9.0   07/11/2014           2021.0   \n",
       "Manuel Neuer                 GK       1.0   07/01/2011           2021.0   \n",
       "\n",
       "                   Rating  Height     ...      Long_Shots Curve  \\\n",
       "Name                                  ...                         \n",
       "Cristiano Ronaldo      94  185 cm     ...              90    81   \n",
       "Lionel Messi           93  170 cm     ...              88    89   \n",
       "Neymar                 92  174 cm     ...              77    79   \n",
       "Luis Suárez            92  182 cm     ...              86    86   \n",
       "Manuel Neuer           92  193 cm     ...              16    14   \n",
       "\n",
       "                  Freekick_Accuracy  Penalties Volleys GK_Positioning  \\\n",
       "Name                                                                    \n",
       "Cristiano Ronaldo                76         85      88             14   \n",
       "Lionel Messi                     90         74      85             14   \n",
       "Neymar                           84         81      83             15   \n",
       "Luis Suárez                      84         85      88             33   \n",
       "Manuel Neuer                     11         47      11             91   \n",
       "\n",
       "                   GK_Diving  GK_Kicking  GK_Handling  GK_Reflexes  \n",
       "Name                                                                \n",
       "Cristiano Ronaldo          7          15           11           11  \n",
       "Lionel Messi               6          15           11            8  \n",
       "Neymar                     9          15            9           11  \n",
       "Luis Suárez               27          31           25           37  \n",
       "Manuel Neuer              89          95           90           89  \n",
       "\n",
       "[5 rows x 52 columns]"
      ]
     },
     "execution_count": 6,
     "metadata": {},
     "output_type": "execute_result"
    }
   ],
   "source": [
    "fulldata.head()"
   ]
  },
  {
   "cell_type": "code",
   "execution_count": 7,
   "metadata": {},
   "outputs": [
    {
     "name": "stdout",
     "output_type": "stream",
     "text": [
      "<class 'pandas.core.frame.DataFrame'>\n",
      "Index: 1075 entries, Cristiano Ronaldo to Sumeet Passi\n",
      "Data columns (total 52 columns):\n",
      "Nationality           1075 non-null object\n",
      "National_Position     1075 non-null object\n",
      "National_Kit          1075 non-null float64\n",
      "Club                  1075 non-null object\n",
      "Club_Position         1075 non-null object\n",
      "Club_Kit              1075 non-null float64\n",
      "Club_Joining          1075 non-null object\n",
      "Contract_Expiry       1075 non-null float64\n",
      "Rating                1075 non-null int64\n",
      "Height                1075 non-null object\n",
      "Weight                1075 non-null object\n",
      "Preffered_Foot        1075 non-null object\n",
      "Birth_Date            1075 non-null object\n",
      "Age                   1075 non-null int64\n",
      "Preffered_Position    1075 non-null object\n",
      "Work_Rate             1075 non-null object\n",
      "Weak_foot             1075 non-null int64\n",
      "Skill_Moves           1075 non-null int64\n",
      "Ball_Control          1075 non-null int64\n",
      "Dribbling             1075 non-null int64\n",
      "Marking               1075 non-null int64\n",
      "Sliding_Tackle        1075 non-null int64\n",
      "Standing_Tackle       1075 non-null int64\n",
      "Aggression            1075 non-null int64\n",
      "Reactions             1075 non-null int64\n",
      "Attacking_Position    1075 non-null int64\n",
      "Interceptions         1075 non-null int64\n",
      "Vision                1075 non-null int64\n",
      "Composure             1075 non-null int64\n",
      "Crossing              1075 non-null int64\n",
      "Short_Pass            1075 non-null int64\n",
      "Long_Pass             1075 non-null int64\n",
      "Acceleration          1075 non-null int64\n",
      "Speed                 1075 non-null int64\n",
      "Stamina               1075 non-null int64\n",
      "Strength              1075 non-null int64\n",
      "Balance               1075 non-null int64\n",
      "Agility               1075 non-null int64\n",
      "Jumping               1075 non-null int64\n",
      "Heading               1075 non-null int64\n",
      "Shot_Power            1075 non-null int64\n",
      "Finishing             1075 non-null int64\n",
      "Long_Shots            1075 non-null int64\n",
      "Curve                 1075 non-null int64\n",
      "Freekick_Accuracy     1075 non-null int64\n",
      "Penalties             1075 non-null int64\n",
      "Volleys               1075 non-null int64\n",
      "GK_Positioning        1075 non-null int64\n",
      "GK_Diving             1075 non-null int64\n",
      "GK_Kicking            1075 non-null int64\n",
      "GK_Handling           1075 non-null int64\n",
      "GK_Reflexes           1075 non-null int64\n",
      "dtypes: float64(3), int64(38), object(11)\n",
      "memory usage: 445.1+ KB\n"
     ]
    }
   ],
   "source": [
    "fulldata.info()"
   ]
  },
  {
   "cell_type": "code",
   "execution_count": 52,
   "metadata": {},
   "outputs": [],
   "source": [
    "Highly_rated=fulldata['Rating']>74"
   ]
  },
  {
   "cell_type": "code",
   "execution_count": 69,
   "metadata": {},
   "outputs": [],
   "source": [
    "good_stamina=fulldata['Stamina']>70"
   ]
  },
  {
   "cell_type": "code",
   "execution_count": 70,
   "metadata": {},
   "outputs": [],
   "source": [
    "players=fulldata['National_Position']!=fulldata['National_Position'].str.contains('Sub')"
   ]
  },
  {
   "cell_type": "code",
   "execution_count": 71,
   "metadata": {},
   "outputs": [],
   "source": [
    "skilled_players=fulldata['Skill_Moves']>2"
   ]
  },
  {
   "cell_type": "code",
   "execution_count": 72,
   "metadata": {},
   "outputs": [],
   "source": [
    "most_composed=fulldata['Composure']>65"
   ]
  },
  {
   "cell_type": "code",
   "execution_count": 73,
   "metadata": {},
   "outputs": [],
   "source": [
    "visionary=fulldata['Vision']>60"
   ]
  },
  {
   "cell_type": "code",
   "execution_count": 74,
   "metadata": {},
   "outputs": [],
   "source": [
    "dribbler=fulldata['Ball_Control']>65"
   ]
  },
  {
   "cell_type": "code",
   "execution_count": 75,
   "metadata": {},
   "outputs": [],
   "source": [
    "agile=fulldata['Agility']>70"
   ]
  },
  {
   "cell_type": "code",
   "execution_count": 76,
   "metadata": {},
   "outputs": [],
   "source": [
    "finisher=fulldata['Finishing']>70"
   ]
  },
  {
   "cell_type": "code",
   "execution_count": 77,
   "metadata": {},
   "outputs": [],
   "source": [
    "goodplayer=fulldata[skilled_players & Highly_rated & good_stamina & most_composed & visionary & dribbler & agile & finisher ]"
   ]
  },
  {
   "cell_type": "markdown",
   "metadata": {},
   "source": [
    "## Playerwise Stats"
   ]
  },
  {
   "cell_type": "code",
   "execution_count": 114,
   "metadata": {},
   "outputs": [
    {
     "data": {
      "text/plain": [
       "<matplotlib.axes._subplots.AxesSubplot at 0x7fd22b6b2518>"
      ]
     },
     "execution_count": 114,
     "metadata": {},
     "output_type": "execute_result"
    },
    {
     "data": {
      "image/png": "[encoded data removed]",
      "text/plain": [
       "<Figure size 1080x360 with 1 Axes>"
      ]
     },
     "metadata": {
      "needs_background": "light"
     },
     "output_type": "display_data"
    }
   ],
   "source": [
    "fulldata[players & Highly_rated & good_stamina][['Rating','Stamina']].head(15).plot(figsize=(15,5),kind='bar')"
   ]
  },
  {
   "cell_type": "markdown",
   "metadata": {},
   "source": [
    "## Best Players according to Nationality"
   ]
  },
  {
   "cell_type": "code",
   "execution_count": 166,
   "metadata": {},
   "outputs": [
    {
     "data": {
      "text/plain": [
       "<matplotlib.axes._subplots.AxesSubplot at 0x7fd22995ca90>"
      ]
     },
     "execution_count": 166,
     "metadata": {},
     "output_type": "execute_result"
    },
    {
     "data": {
      "image/png": "[encoded data removed]",
      "text/plain": [
       "<Figure size 1080x360 with 1 Axes>"
      ]
     },
     "metadata": {
      "needs_background": "light"
     },
     "output_type": "display_data"
    }
   ],
   "source": [
    "plt.figure(figsize=(15,5))\n",
    "sns.countplot(x='Nationality',data=goodplayer.head(25))"
   ]
  },
  {
   "cell_type": "markdown",
   "metadata": {},
   "source": [
    "## Best Players according to Clubs"
   ]
  },
  {
   "cell_type": "code",
   "execution_count": 175,
   "metadata": {},
   "outputs": [
    {
     "data": {
      "text/plain": [
       "<matplotlib.axes._subplots.AxesSubplot at 0x7fd229472240>"
      ]
     },
     "execution_count": 175,
     "metadata": {},
     "output_type": "execute_result"
    },
    {
     "data": {
      "image/png": "[encoded data removed]",
      "text/plain": [
       "<Figure size 1440x576 with 1 Axes>"
      ]
     },
     "metadata": {
      "needs_background": "light"
     },
     "output_type": "display_data"
    }
   ],
   "source": [
    "plt.figure(figsize=(20,8))\n",
    "sns.countplot(x='Club',data=goodplayer.head(25))\n"
   ]
  },
  {
   "cell_type": "code",
   "execution_count": 82,
   "metadata": {},
   "outputs": [],
   "source": [
    "goalkeepers=fulldata['National_Position'].str.contains('GK')"
   ]
  },
  {
   "cell_type": "code",
   "execution_count": 97,
   "metadata": {},
   "outputs": [],
   "source": [
    "GK_dive=fulldata['GK_Diving']>80"
   ]
  },
  {
   "cell_type": "code",
   "execution_count": 98,
   "metadata": {},
   "outputs": [],
   "source": [
    "GK_handle=fulldata['GK_Handling']>80"
   ]
  },
  {
   "cell_type": "code",
   "execution_count": 99,
   "metadata": {},
   "outputs": [],
   "source": [
    "GK_kick=fulldata['GK_Kicking']>80"
   ]
  },
  {
   "cell_type": "code",
   "execution_count": 124,
   "metadata": {},
   "outputs": [],
   "source": [
    "GK_reflex=fulldata['GK_Reflexes']>80"
   ]
  },
  {
   "cell_type": "code",
   "execution_count": 178,
   "metadata": {},
   "outputs": [
    {
     "data": {
      "text/plain": [
       "<matplotlib.axes._subplots.AxesSubplot at 0x7fd22938eba8>"
      ]
     },
     "execution_count": 178,
     "metadata": {},
     "output_type": "execute_result"
    },
    {
     "data": {
      "image/png": "[encoded data removed]",
      "text/plain": [
       "<Figure size 720x216 with 1 Axes>"
      ]
     },
     "metadata": {
      "needs_background": "light"
     },
     "output_type": "display_data"
    }
   ],
   "source": [
    "fulldata[goalkeepers & Highly_rated & GK_dive & GK_handle & GK_kick & GK_reflex][['Rating',]].head(10).plot(figsize=(10,3),kind='bar')\n"
   ]
  },
  {
   "cell_type": "markdown",
   "metadata": {},
   "source": [
    "techgig,hirist"
   ]
  },
  {
   "cell_type": "code",
   "execution_count": null,
   "metadata": {},
   "outputs": [],
   "source": []
  }
 ],
 "metadata": {
  "kernelspec": {
   "display_name": "Python 3",
   "language": "python",
   "name": "python3"
  },
  "language_info": {
   "codemirror_mode": {
    "name": "ipython",
    "version": 3
   },
   "file_extension": ".py",
   "mimetype": "text/x-python",
   "name": "python",
   "nbconvert_exporter": "python",
   "pygments_lexer": "ipython3",
   "version": "3.6.6"
  }
 },
 "nbformat": 4,
 "nbformat_minor": 2
}
